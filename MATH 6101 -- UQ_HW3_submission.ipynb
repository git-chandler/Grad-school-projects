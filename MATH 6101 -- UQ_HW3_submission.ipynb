{
 "cells": [
  {
   "cell_type": "markdown",
   "metadata": {},
   "source": [
    "### Problem 1\n",
    "\n",
    "Consider our bacterial population growth model, where the growth rate $a(t,\\omega)$ is a mean 1 Gaussian process with an exponential radial covariance function with $\\sigma^2=1$ and covariance length $L=1$, with initial population $P(t=0)=1000$.\n",
    "\n",
    "Let $a(t)$ be approximated by its 10 term K-L expansion, yielding 10 input parameters, $\\xi_i$, where the $\\xi_i$ are $\\mathcal{N}(0,1)$.\n",
    "\n",
    "The quantity of interest $Q(\\Xi)$ is the population at time $t=1 day$.\n",
    "\n",
    "* How sensitive is $Q(\\Xi$) to the 10 K-L coefficients? (use any valid local sensitivity analysis method).\n",
    "* What is the expected value of the population at $t=1$?\n",
    "* Let $\\xi_i=1,i=1,2,\\ldots 10$.  Assuming hourly measurements of the population, construct the Fisher matrix for Q.  Are all the $X_i$ parameters identifiable?\n",
    "* Compute the Sobol indices (ANOVA) for $Q(\\Xi)$.\n",
    "* Use a sampling based approach, combined with an sensitivity analysis results from above, to predict the probability that the population $P$ at time t=1 is greater than 4000.\n",
    "\n"
   ]
  },
  {
   "cell_type": "code",
   "execution_count": 1,
   "metadata": {},
   "outputs": [],
   "source": [
    "import numpy as np\n",
    "import matplotlib.pyplot as plt\n",
    "import scipy.integrate as spi\n",
    "from scipy import optimize\n",
    "\n",
    "np.set_printoptions(precision = 6)\n",
    "\n",
    "# eigenfunction and eigenvalue generators\n",
    "def efunc(x, k, v_k, L=1):\n",
    "    if k%2 == 0:\n",
    "        return np.sin(v_k[k]*x)/np.sqrt(1-np.sin(2*v_k[k])/(2*v_k[k]))\n",
    "    else:\n",
    "        return np.cos(v_k[k]*x)/np.sqrt(1+np.sin(2*v_k[k])/(2*v_k[k]))\n",
    "\n",
    "def eval(k, v_k, L=1, var_p=1):\n",
    "    if k%2==0:\n",
    "        return var_p*2*L/(1+L**2*v_k[k]**2)\n",
    "    else:\n",
    "        return var_p*2*L/(1+L**2*v_k[k]**2)\n",
    "\n",
    "# transcendental equations\n",
    "def f1(x, L=1):\n",
    "    return L*x + np.tan(x)\n",
    "\n",
    "def f2(x, L=1):\n",
    "    return 1 - L*x*np.tan(x)\n",
    "\n",
    "# vk construction\n",
    "def build_vk(k):\n",
    "    vk = np.zeros(k+2)\n",
    "    vk[1] = optimize.root_scalar(f2, bracket = [0, np.pi/2-1E-3], method ='brentq').root\n",
    "    ind = 1\n",
    "    for i in range(1, k+1, 2):\n",
    "        interval = [i*np.pi/2+1E-3, i*np.pi/2+np.pi-1E-3]\n",
    "        ind += 1\n",
    "        vk[ind] = optimize.root_scalar(f1, bracket = interval, method='brentq').root\n",
    "        ind += 1\n",
    "        vk[ind] = optimize.root_scalar(f2, bracket = interval, method='brentq').root\n",
    "    return vk\n",
    "\n",
    "# KL realization function\n",
    "def realize(x, k, rv, vk, L, mean, var_p):\n",
    "    #out = np.zeros(x.shape) + mean\n",
    "    out = 0*x + mean\n",
    "    \n",
    "    for i in range(1, k+1):\n",
    "        out += rv[i-1] * np.sqrt(eval(i, vk, L, var_p)) * efunc(x, i, vk, L)\n",
    "    \n",
    "    return out\n",
    "\n",
    "# fixed realization of a given xi(omega)\n",
    "def realize_a_fixed(x, k, xi, vk, L=1, mean=1, var=1):\n",
    "    out = 0*x + mean   #handles non-np array input    \n",
    "    \n",
    "    for i in range(1, k+1):\n",
    "        out += xi[i-1] * np.sqrt(eval(i, vk, L)) * efunc(x, i, vk, L)\n",
    "    \n",
    "    return out\n",
    "\n",
    "# population integral\n",
    "def Pop(t, xi, vk, k, P0):\n",
    "    inta = spi.quad(realize_a_fixed, 0, t, args=(k, xi, vk, 1, 1, 1))[0]\n",
    "    \n",
    "    return P0*np.exp(inta)    "
   ]
  },
  {
   "cell_type": "markdown",
   "metadata": {},
   "source": [
    "### Part 1"
   ]
  },
  {
   "cell_type": "markdown",
   "metadata": {},
   "source": [
    "We make use of the analytic method for sensitivity analysis and arrive at the following gradient vector:\n",
    "\n",
    "$$\\nabla Q = P_0\\text{exp}\\bigg\\{\\bar{a}(t) + \\sum\\limits_{k=1}^{10}\\bigg(\\sqrt{\\lambda_k}\\xi_k(\\omega)\\int\\limits_0^t\\phi_k(t)dt\\bigg)\\bigg\\}\\bigg[\\sqrt{\\lambda_1}\\frac{\\partial}{\\partial\\xi_1}\\big(\\xi_1(\\omega)\\big)\\int\\limits_0^t\\phi_1(t)dt, \\dots, \\sqrt{\\lambda_{10}}\\frac{\\partial}{\\partial\\xi_{10}}\\big(\\xi_{10}(\\omega)\\big)\\int\\limits_0^t\\phi_{10}(t)dt\\bigg]^T$$\n",
    "\n",
    "Substituting $t=1$, this is:\n",
    "\n",
    "$$\\nabla Q = P_0\\text{exp}\\bigg\\{\\bar{a}(1) + \\sum\\limits_{k=1}^{10}\\bigg(\\sqrt{\\lambda_k}\\xi_k(\\omega)\\int\\limits_0^1\\phi_k(1)dt\\bigg)\\bigg\\}\\bigg[\\sqrt{\\lambda_1}\\int\\limits_0^1\\phi_1(1)dt, \\dots, \\sqrt{\\lambda_{10}}\\int\\limits_0^1\\phi_{10}(1)dt\\bigg]^T$$\n",
    "\n",
    "where each of the $\\frac{\\partial}{\\partial\\xi_k}\\big(\\xi_k(\\omega)\\big) = 1$. Note that we've imposed $\\bar{a}(1) = 1$, the mean of the Gaussian process."
   ]
  },
  {
   "cell_type": "code",
   "execution_count": 2,
   "metadata": {},
   "outputs": [
    {
     "name": "stdout",
     "output_type": "stream",
     "text": [
      "The population at t=1 is: 3884.249847791632\n",
      "The gradient values at t=1 are [ 2.923950e+03  1.578937e+03 -1.212478e+02  1.750666e+02  1.987458e+01\n",
      "  9.553231e+01 -6.244902e+00  4.035705e+01  2.691430e+00  2.898141e+01]\n"
     ]
    }
   ],
   "source": [
    "# generate population (this uses Prof. Carey's algorithm)\n",
    "t = np.linspace(1/24, 1, 24)\n",
    "popul = np.zeros(t.size)\n",
    "growth = np.zeros(t.size)\n",
    "\n",
    "k = 10 # truncating KL expansion at 10 terms\n",
    "vk = build_vk(k)\n",
    "xi = np.random.randn(k)\n",
    "lambda_i = np.zeros(k)\n",
    "int_phi_i = np.zeros(k)\n",
    "grad_Q = np.zeros(k)\n",
    "\n",
    "L = 1 # autocorrelation length\n",
    "mean_gp = 1 # mean of the gaussian process\n",
    "var_p = 1 # assuming a variance of 1\n",
    "var = 1\n",
    "P0 = 1000 # initial bacteria population\n",
    "\n",
    "for times in range(len(t)):\n",
    "    growth[times] = realize_a_fixed(t[times], k, xi, vk, L, mean_gp, var)\n",
    "    popul[times] = Pop(t[times], xi, vk, k, P0)\n",
    "\n",
    "# extract the eigenvalues and integrals of eigenfunctions to compute the gradient vector\n",
    "lambda_i += [np.sqrt(eval(j, vk, L, var_p)) for j in range(1, k+1)]\n",
    "# print(lambda_i)\n",
    "int_phi_i += [spi.quad(efunc, 0, 1, args = (j, vk, L))[0] for j in range(1, k+1)]\n",
    "# print(int_phi_i)\n",
    "\n",
    "grad_Q += [popul[-1]*lambda_i[j-1]*int_phi_i[j-1] for j in range(1, k+1)]\n",
    "\n",
    "# print('The growth rate at each hour is:', growth)\n",
    "# print('The population at each hour is:', popul)\n",
    "print('The population at t=1 is:', popul[-1])\n",
    "# print('The eigenvalues are:', lambda_i)\n",
    "# print('The integrated eigenfunctions are:', int_phi_i)\n",
    "print('The gradient values at t=1 are', grad_Q)"
   ]
  },
  {
   "cell_type": "markdown",
   "metadata": {},
   "source": [
    "### Part 2"
   ]
  },
  {
   "cell_type": "markdown",
   "metadata": {},
   "source": [
    "The quantity of interest is given by:\n",
    "$$Q = P(1) = P_0exp\\bigg\\{1 + \\sum_{k=1}^{10}\\sqrt{\\lambda_k}\\xi_k(\\omega)\\int_0^1\\phi_k(1)dt\\bigg\\}$$\n",
    "\n",
    "Let $U = 1+\\sum_{k=1}^{10}\\big(\\sqrt{\\lambda_k}\\xi_k\\int_0^1\\phi_k(1)dt\\big)$. Then, $U = \\text{ln}\\big(\\frac{Q}{P_0}\\big)$. Since the $\\xi_i \\sim N(0, 1)$, $U$ is a scaled sum of independent normal random variables. Thus, $Q$ is distributed log-normally with mean 1, the mean of the Gaussian process, and its variance will be the variance of the sum of 10 normally distributed random variables scaled by the eigenvalues and the integrals of the eigenfunctions:\n",
    "\n",
    "$$\\sigma_a^2 = var(U) = var\\bigg(1+\\sum\\limits_{k=1}^{10}\\bigg(\\sqrt{\\lambda_k}\\xi_k\\int_0^1\\phi_k(1)dt\\bigg)\\bigg) \\overset{ind}{=} \\sum\\limits_{k=1}^{10}var\\bigg(\\sqrt{\\lambda_k}\\xi_k\\int_0^1\\phi_k(1)dt\\bigg) = \\sum\\limits_{k=1}^{10}\\lambda_k\\bigg(\\int_0^1\\phi_k(1)dt\\bigg)^2var(\\xi_k) = \\sum\\limits_{k=1}^{10}\\lambda_k\\bigg(\\int_0^1\\phi_k(1)dt\\bigg)^2,$$ since $var(\\xi_k) = 1, \\forall k$.\n",
    "\n",
    "Thus, we can write\n",
    "\n",
    "$$\\frac{Q}{P_0} \\sim lognormal(1, \\sigma_a^2)$$\n",
    "\n",
    "Therefore,\n",
    "\n",
    "$$\\mathbb{E}\\bigg[\\frac{Q}{P_0}\\bigg] = \\frac{1}{P_0}\\mathbb{E}[Q] = exp\\bigg\\{1+\\frac{\\sigma_a^2}{2}\\bigg\\} \\Rightarrow \\mathbb{E}[Q] = P_0exp\\bigg\\{1+\\frac{\\sigma_a^2}{2}\\bigg\\}$$\n",
    "\n",
    "$$var\\bigg(\\frac{Q}{P_0}\\bigg) = \\frac{1}{P_0^2}var(Q) = (exp\\{\\sigma_a^2\\}-1)exp\\{2\\mu+\\sigma_a^2\\} = (exp\\{\\sigma_a^2\\}-1)exp\\{2+\\sigma_a^2\\} \\Rightarrow var(Q) = P_0^2(exp\\{\\sigma_a^2\\}-1)exp\\{2+\\sigma_a^2\\}$$"
   ]
  },
  {
   "cell_type": "code",
   "execution_count": 19,
   "metadata": {},
   "outputs": [
    {
     "name": "stdout",
     "output_type": "stream",
     "text": [
      "The mean of the population at day 1 is 3926.913297\n",
      "The variance of the population at day 1 is 16761593.206289\n",
      "This implies a standard deviation of 4094.092477\n"
     ]
    }
   ],
   "source": [
    "# compute the variance of a(t, omega)\n",
    "var_a_i = [lambda_i[i]**2*int_phi_i[i]**2 for i in range(k)]\n",
    "var_a = np.sum(var_a_i)\n",
    "# print(var_a)\n",
    "\n",
    "# compute the mean of P(1)\n",
    "mean_Q = P0*np.exp(1+var_a/2)\n",
    "var_Q = P0**2*(np.exp(var_a)-1)*np.exp(2+var_a)\n",
    "print('The mean of the population at day 1 is', '%.6f'%(mean_Q))\n",
    "print('The variance of the population at day 1 is', '%.6f'%(var_Q))\n",
    "print('This implies a standard deviation of', '%.6f'%(np.sqrt(var_Q)))"
   ]
  },
  {
   "cell_type": "markdown",
   "metadata": {},
   "source": [
    "### Part 3"
   ]
  },
  {
   "cell_type": "markdown",
   "metadata": {},
   "source": [
    "Let $z(t) = P_0\\text{exp}\\bigg\\{1 + \\sum\\limits_{k=1}^{10}\\bigg(\\sqrt{\\lambda_k}\\xi_k(\\omega)\\int_0^t\\phi_k(t)dt\\bigg)\\bigg\\} \\overset{\\xi_k = 1}{=} P_0\\text{exp}\\bigg\\{1 + \\sum\\limits_{k=1}^{10}\\bigg(\\sqrt{\\lambda_t}\\int_0^t\\phi_k(t)dt\\bigg)\\bigg\\}$. Then the sensitivity matrix is:\n",
    "\n",
    "$$\\chi(q^*) = \\begin{pmatrix}\n",
    "z(1/24)\\sqrt{\\lambda_1}\\int_0^{1/24}\\phi_1(1/24)dt, \\dots, z(1/24)\\sqrt{\\lambda_{10}}\\int_0^{1/24}\\phi_{10}(1/24)dt \\\\\n",
    "\\;\\vdots \\\\\n",
    "z(24/24)\\sqrt{\\lambda_1}\\int_0^{24/24}\\phi_1(24/24)dt, \\dots, z(24/24)\\sqrt{\\lambda_{10}}\\int_0^{24/24}\\phi_{10}(24/24)dt\n",
    "\\end{pmatrix},$$\n",
    "\n",
    "and the Fisher Information matrix is calculated by: $\\mathcal{F} = \\chi^T\\chi$."
   ]
  },
  {
   "cell_type": "code",
   "execution_count": 4,
   "metadata": {
    "scrolled": true
   },
   "outputs": [
    {
     "name": "stdout",
     "output_type": "stream",
     "text": [
      "The Fisher Information matrix is: \n",
      " [[ 2.296125e+08  1.121292e+08  8.481163e+06  2.733392e+07 -4.754243e+06\n",
      "   4.801721e+06  1.908981e+06  5.334558e+06 -8.856440e+05  1.844873e+06]\n",
      " [ 1.121292e+08  5.558598e+07  2.980715e+06  1.265862e+07 -2.234380e+06\n",
      "   2.216663e+06  9.796881e+05  2.594050e+06 -4.654854e+05  8.426054e+05]\n",
      " [ 8.481163e+06  2.980715e+06  1.956147e+06  2.016577e+06 -3.455629e+05\n",
      "   3.270441e+05  1.059398e+04  2.088087e+05  1.551340e+04  1.498500e+05]\n",
      " [ 2.733392e+07  1.265862e+07  2.016577e+06  3.930067e+06 -7.599693e+05\n",
      "   5.989351e+05  2.090675e+05  6.379413e+05 -7.353990e+04  2.685187e+05]\n",
      " [-4.754243e+06 -2.234380e+06 -3.455629e+05 -7.599693e+05  2.564325e+05\n",
      "  -7.981773e+03 -7.212350e+04 -1.121519e+05  1.181155e+04 -4.526358e+04]\n",
      " [ 4.801721e+06  2.216663e+06  3.270441e+05  5.989351e+05 -7.981773e+03\n",
      "   2.065335e+05 -1.307738e+04  9.800377e+04 -9.854445e+03  4.734334e+04]\n",
      " [ 1.908981e+06  9.796881e+05  1.059398e+04  2.090675e+05 -7.212350e+04\n",
      "  -1.307738e+04  5.917729e+04  7.007339e+04 -2.101322e+04  9.147692e+03]\n",
      " [ 5.334558e+06  2.594050e+06  2.088087e+05  6.379413e+05 -1.121519e+05\n",
      "   9.800377e+04  7.007339e+04  1.496517e+05 -3.645184e+04  3.625487e+04]\n",
      " [-8.856440e+05 -4.654854e+05  1.551340e+04 -7.353990e+04  1.181155e+04\n",
      "  -9.854445e+03 -2.101322e+04 -3.645184e+04  1.990682e+04  5.630112e+03]\n",
      " [ 1.844873e+06  8.426054e+05  1.498500e+05  2.685187e+05 -4.526358e+04\n",
      "   4.734334e+04  9.147692e+03  3.625487e+04  5.630112e+03  2.894315e+04]]\n"
     ]
    }
   ],
   "source": [
    "xi_1 = np.ones(k)\n",
    "sens_mat = np.zeros(shape = (24, 10))\n",
    "\n",
    "sens_mat += [[Pop(t[times], xi_1, vk, k, P0)*np.sqrt(eval(i, vk, L, var_p))*spi.quad(efunc, 0, t[times], args = (i, vk, L))[0] for i in range (1, k+1)] for times in range(len(t))]\n",
    "        \n",
    "f_mat = sens_mat.T@sens_mat\n",
    "\n",
    "# print('The sensitivity matrix is: \\n', sens_mat)\n",
    "print('The Fisher Information matrix is: \\n', f_mat)"
   ]
  },
  {
   "cell_type": "code",
   "execution_count": 6,
   "metadata": {},
   "outputs": [
    {
     "name": "stdout",
     "output_type": "stream",
     "text": [
      "The Fisher matrix eigenvalues and corresponding eigenvectors are: \n",
      "\n",
      "288368997.9947138 , [ 0.892209  0.436562  0.031768  0.105541 -0.018436  0.018489  0.007478\n",
      "  0.020716 -0.003475  0.007108]\n",
      "3056143.966510653 , [-0.134392  0.449137 -0.737113 -0.471787  0.089196 -0.062004  0.023685\n",
      " -0.007473 -0.021591 -0.037586]\n",
      "293358.09487890283 , [ 0.124429 -0.169837  0.116189 -0.340783  0.6665    0.563976 -0.246753\n",
      " -0.046472  0.018366  0.019088]\n",
      "67768.09626118584 , [ 0.083202 -0.150467  0.094016 -0.201846  0.225895 -0.159633  0.559719\n",
      "  0.605489 -0.372665 -0.159884]\n",
      "17886.969566650743 , [-0.087415  0.124546 -0.042997  0.212485 -0.133088  0.241454 -0.351783\n",
      "  0.049437 -0.547087 -0.654474]\n",
      "1222.1617615495709 , [ 0.148844 -0.201008  0.085834 -0.256285  0.086745 -0.320699  0.158236\n",
      " -0.40766   0.32931  -0.674054]\n",
      "10.4749125065201 , [-0.19009   0.284565 -0.030631  0.342701  0.083598  0.365165  0.236371\n",
      "  0.354295  0.598765 -0.29027 ]\n",
      "0.022876094884936006 , [-0.195435  0.346076  0.12244   0.29906   0.370151  0.034153  0.46981\n",
      " -0.533434 -0.297699  0.074375]\n",
      "1.1674030532340149e-09 , [ 0.158127 -0.386384 -0.544101  0.53977   0.408603 -0.240892 -0.109219\n",
      "  0.036409  0.008059 -0.000901]\n",
      "1.4102643142057136e-05 , [-0.185387  0.387621  0.334849  0.018405  0.400324 -0.546419 -0.433474\n",
      "  0.225176  0.073122 -0.011614]\n"
     ]
    }
   ],
   "source": [
    "eigs = np.linalg.eig(f_mat)\n",
    "\n",
    "print('The Fisher matrix eigenvalues and corresponding eigenvectors are: \\n')\n",
    "for i in range(len(eigs[0])):\n",
    "    print(eigs[0][i], ',', eigs[1][:, i])"
   ]
  },
  {
   "cell_type": "code",
   "execution_count": 7,
   "metadata": {},
   "outputs": [
    {
     "name": "stdout",
     "output_type": "stream",
     "text": [
      "[3.474184e+01 1.821581e+03 2.315627e+04 5.761224e+04 3.018410e+06\n",
      " 2.880326e+08]\n"
     ]
    }
   ],
   "source": [
    "epsilon = 1\n",
    "chi = sens_mat\n",
    "\n",
    "for i in range(len(eigs[0])):\n",
    "    chi_sub = chi.T@chi\n",
    "    eig_sub = np.linalg.eig(chi_sub)\n",
    "    \n",
    "    eig_vals = np.sort(eig_sub[0])\n",
    "    sort_indices = [list(eig_sub[0]).index(eig_vals[i])for i in range(len(eig_vals))]\n",
    "    eig_vecs = eig_sub[1][sort_indices]\n",
    "    \n",
    "    if eig_vals[0] < epsilon:\n",
    "        max_index = np.argmax(eig_vecs[i, :])\n",
    "        chi = np.delete(chi, max_index, axis = 1)\n",
    "    else:\n",
    "        break\n",
    "\n",
    "print(eig_vals)"
   ]
  },
  {
   "cell_type": "markdown",
   "metadata": {},
   "source": [
    "At $\\varepsilon = 1$, only six eigenvalues survive the algorithm. Therefore, only six parameters are identifiable. Increasing (decreasing) $\\varepsilon$ will lead to fewer (more) identifiable parameters."
   ]
  },
  {
   "cell_type": "markdown",
   "metadata": {},
   "source": [
    "### Part 4"
   ]
  },
  {
   "cell_type": "markdown",
   "metadata": {},
   "source": [
    "First, we compute the value of $f_0$, which should equal the mean computed analytically in part 2.\n",
    "\n",
    "$$\\begin{align}\n",
    "f_0 = \\mathbb{E}[Q] &= \\int_{\\mathbb{R}^{10}}f(\\xi)\\rho(\\xi)d\\xi \\\\\n",
    "&= \\int_{\\mathbb{R}^{10}}P_0exp\\bigg\\{1+\\sum_k\\sqrt{\\lambda_k}\\xi_k\\int_0^1\\phi_kdt\\bigg\\}\\prod_k(2\\pi)^{-1/2}exp\\bigg\\{-\\frac{1}{2}\\xi_k^2\\bigg\\}d\\xi \\\\\n",
    "&= (2\\pi)^{-10/2}P_0e\\int_{\\mathbb{R}^{10}}\\prod_kexp\\bigg\\{\\sqrt{\\lambda_k}\\xi_k\\int_0^1\\phi_kdt\\bigg\\}\\prod_kexp\\bigg\\{-\\frac{1}{2}\\xi_k^2\\bigg\\}d\\xi \\\\\n",
    "&= (2\\pi)^{-10/2}P_0e\\int_{\\mathbb{R}^{10}}\\prod_kexp\\bigg\\{\\sqrt{\\lambda_k}\\xi_k\\int_0^1\\phi_kdt -\\frac{1}{2}\\xi_k^2\\bigg\\}d\\xi \\\\\n",
    "&= (2\\pi)^{-10/2}P_0e\\prod_k\\bigg[\\int_{\\mathbb{R}}exp\\bigg\\{\\sqrt{\\lambda_k}\\xi_k\\int_0^1\\phi_kdt -\\frac{1}{2}\\xi_k^2\\bigg\\}d\\xi_k\\bigg]\n",
    "\\end{align}$$"
   ]
  },
  {
   "cell_type": "code",
   "execution_count": 8,
   "metadata": {},
   "outputs": [
    {
     "name": "stdout",
     "output_type": "stream",
     "text": [
      "3926.9132966418993\n"
     ]
    }
   ],
   "source": [
    "# compute E(Q) = f0\n",
    "def integrand(xi, lambda_i, int_phi_i):\n",
    "    return np.exp(xi*lambda_i*int_phi_i - (1/2)*xi**2)\n",
    "\n",
    "integrals = np.zeros(k)\n",
    "integrals += [spi.quad(integrand, -np.inf, np.inf, args = (lambda_i[i], int_phi_i[i]))[0] for i in range(k)]\n",
    "\n",
    "f0 = (2*np.pi)**(-10/2)*P0*np.e*np.prod(integrals)\n",
    "print(f0)"
   ]
  },
  {
   "cell_type": "markdown",
   "metadata": {},
   "source": [
    "Observe that this agrees with the value calculated in part 2. Next, we compute the value of the total variance.\n",
    "\n",
    "$$\\begin{align}\n",
    "D = var(Q) &= \\int_{\\mathbb{R}^{10}}f^2(\\xi)\\rho{\\xi}d\\xi - f_0^2 \\\\\n",
    "&= \\int_{\\mathbb{R}^{10}}\\bigg(P_0exp\\bigg\\{1+\\sum_k\\sqrt{\\lambda_k}\\xi_k\\int_0^1\\phi_kdt\\bigg\\}\\bigg)^2\\prod_k(2\\pi)^{-1/2}exp\\bigg\\{-\\frac{1}{2}\\xi_k^2\\bigg\\}d\\xi - f_0^2\\\\\n",
    "&= (2\\pi)^{-10/2}(P_0e)^2\\int_{\\mathbb{R}^{10}}\\bigg(\\prod_kexp\\bigg\\{\\sqrt{\\lambda_k}\\xi_k\\int_0^1\\phi_kdt\\bigg\\}\\bigg)^2\\prod_k\\bigg\\{-\\frac{1}{2}\\xi_k^2\\bigg\\}d\\xi - f_0^2 \\\\\n",
    "&= (2\\pi)^{-10/2}(P_0e)^2\\int_{\\mathbb{R}^{10}}\\prod_kexp\\bigg\\{2\\sqrt{\\lambda_k}\\xi_k\\int_0^1\\phi_kdt\\bigg\\}\\prod_k\\bigg\\{-\\frac{1}{2}\\xi_k^2\\bigg\\}d\\xi - f_0^2 \\\\\n",
    "&= (2\\pi)^{-10/2}(P_0e)^2\\int_{\\mathbb{R}^{10}}\\prod_kexp\\bigg\\{2\\sqrt{\\lambda_k}\\xi_k\\int_0^1\\phi_kdt - \\frac{1}{2}\\xi_k^2\\bigg\\}d\\xi - f_0^2 \\\\\n",
    "&= (2\\pi)^{-10/2}(P_0e)^2\\prod_k\\bigg[\\int_{\\mathbb{R}}exp\\bigg\\{2\\sqrt{\\lambda_k}\\xi_k\\int_0^1\\phi_kdt - \\frac{1}{2}\\xi_k^2\\bigg\\}d\\xi_k\\bigg] - f_0^2\n",
    "\\end{align}$$"
   ]
  },
  {
   "cell_type": "code",
   "execution_count": 9,
   "metadata": {},
   "outputs": [
    {
     "name": "stdout",
     "output_type": "stream",
     "text": [
      "16761593.206288824\n"
     ]
    }
   ],
   "source": [
    "# compute total variance\n",
    "def int_dbl(xi, lambda_i, int_phi_i):\n",
    "    return np.exp(2*xi*lambda_i*int_phi_i - (1/2)*xi**2)\n",
    "\n",
    "integrals2 = np.zeros(k)\n",
    "integrals2 += [spi.quad(int_dbl, -np.inf, np.inf, args = (lambda_i[i], int_phi_i[i]))[0] for i in range(k)]\n",
    "\n",
    "D = (2*np.pi)**(-10/2)*(P0*np.e)**2*np.prod(integrals2) - f0**2\n",
    "print(D)"
   ]
  },
  {
   "cell_type": "markdown",
   "metadata": {},
   "source": [
    "Note that this agrees with the value computed in part 2."
   ]
  },
  {
   "cell_type": "markdown",
   "metadata": {},
   "source": [
    "Now, we compute each of the $f_k(q_k)$. We first derive $f_1(q_1)$, and extend this to the other nine integrals.\n",
    "\n",
    "$$\\begin{align}\n",
    "\\int_{\\mathbb{R}^9}f(\\xi)\\rho(\\xi_{\\sim 1})d\\xi_{\\sim 1} &= \\int_{\\mathbb{R}^9}P_0exp\\bigg\\{1+\\sum_{k=1}^{10}\\sqrt{\\lambda_k}\\xi_k\\int\\limits_0^1\\phi_k(1)dt\\bigg\\}\\prod_{k \\neq 1}\\rho(\\xi_k)d\\xi_{\\sim 1} \\\\\n",
    "&= P_0e\\int_{\\mathbb{R}^9}exp\\bigg\\{\\sum_{k=1}^{10}\\sqrt{\\lambda_k}\\xi_k\\int\\limits_0^1\\phi_k(1)dt\\bigg\\}\\prod_{k \\neq 1}\\rho(\\xi_k)d\\xi_{\\sim 1} \\\\\n",
    "&= P_0e \\int_{\\mathbb{R}^9}\\prod_{k=1}^{10}exp\\bigg\\{\\sqrt{\\lambda_k}\\xi_k\\int\\limits_0^1\\phi_k(1)dt\\bigg\\}\\prod_{k \\neq 1}\\rho(\\xi_k)d\\xi_{\\sim 1} \\\\\n",
    "&= \\big(P_0e\\big) exp\\bigg\\{\\sqrt{\\lambda_1}\\xi_1\\int\\limits_0^1\\phi_1(1)dt\\bigg\\}\\int_{\\mathbb{R}^9}\\prod_{k \\neq 1}exp\\bigg\\{\\sqrt{\\lambda_k}\\xi_k\\int\\limits_0^1\\phi_k(1)dt\\bigg\\}\\prod_{k \\neq 1}\\rho(\\xi_k)d\\xi_{\\sim 1}\n",
    "\\end{align}$$\n",
    "\n",
    "Introducing the probability density:\n",
    "$$\n",
    "\\big(P_0e\\big) exp\\bigg\\{\\sqrt{\\lambda_1}\\xi_1\\int\\limits_0^1\\phi_1(1)dt\\bigg\\}\\int_{\\mathbb{R}^9}\\prod_{k \\neq 1}exp\\bigg\\{\\sqrt{\\lambda_k}\\xi_k\\int\\limits_0^1\\phi_k(1)dt\\bigg\\}\\prod_{k \\neq 1}\\rho(\\xi_k)d\\xi_{\\sim 1} \\\\\n",
    "\\begin{align}\n",
    "&= \\big(P_0e\\big) exp\\bigg\\{\\sqrt{\\lambda_1}\\xi_1\\int\\limits_0^1\\phi_1(1)dt\\bigg\\}\\int_{\\mathbb{R}^9}\\prod_{k \\neq 1}exp\\bigg\\{\\sqrt{\\lambda_k}\\xi_k\\int\\limits_0^1\\phi_k(1)dt\\bigg\\}\\prod_{k \\neq 1}(2\\pi)^{-1/2}exp\\bigg\\{-\\frac{1}{2}\\xi_k^2\\bigg\\}d\\xi_{\\sim 1} \\\\\n",
    "&= (2\\pi)^{-9/2}\\big(P_0e\\big) exp\\bigg\\{\\sqrt{\\lambda_1}\\xi_1\\int\\limits_0^1\\phi_1(1)dt\\bigg\\}\\int_{\\mathbb{R}^9}\\prod_{k \\neq 1}exp\\bigg\\{\\sqrt{\\lambda_k}\\xi_k\\int\\limits_0^1\\phi_k(1)dt -\\frac{1}{2}\\xi_k^2\\bigg\\}d\\xi_{\\sim 1} \\\\\n",
    "&= (2\\pi)^{-9/2}\\big(P_0e\\big) exp\\bigg\\{\\sqrt{\\lambda_1}\\xi_1\\int\\limits_0^1\\phi_1(1)dt\\bigg\\}\\prod_{k \\neq 1}\\bigg[\\int_{\\mathbb{R}}exp\\bigg\\{\\sqrt{\\lambda_k}\\xi_k\\int\\limits_0^1\\phi_k(1)dt -\\frac{1}{2}\\xi_k^2\\bigg\\}d\\xi_{\\sim 1}\\bigg],\n",
    "\\end{align}$$\n",
    "\n",
    "where the last step is justified because the integrands can be written as separable products.\n",
    "\n",
    "Since all of the $f_k(\\xi_k)$ will have identical form, they can be written as:\n",
    "$$f_k(\\xi_k) = (2\\pi)^{-9/2}\\big(P_0e\\big) exp\\bigg\\{\\sqrt{\\lambda_k}\\xi_k\\int\\limits_0^1\\phi_k(1)dt\\bigg\\}\\prod_{i \\neq k}\\bigg[\\int_{\\mathbb{R}}exp\\bigg\\{\\sqrt{\\lambda_i}\\xi_i\\int\\limits_0^1\\phi_i(1)dt -\\frac{1}{2}\\xi_i^2\\bigg\\}d\\xi_{\\sim k}\\bigg] - f_0, \\quad k = 1, \\dots, 10.$$"
   ]
  },
  {
   "cell_type": "code",
   "execution_count": 10,
   "metadata": {},
   "outputs": [
    {
     "name": "stdout",
     "output_type": "stream",
     "text": [
      "[ 3.736830e-01 -1.483347e-01  5.420495e-02  5.912128e-02  5.701905e-03\n",
      "  1.368309e-02  1.093458e-04 -4.681078e-03  2.473219e-04  3.194696e-03]\n",
      "[1.453076 0.862143 1.055701 1.060904 1.005718 1.013777 1.000109 0.99533\n",
      " 1.000247 1.0032  ]\n"
     ]
    }
   ],
   "source": [
    "p_rod = np.zeros(k)\n",
    "p_rod += [xi[i]*lambda_i[i]*int_phi_i[i] for i in range(k)]\n",
    "print(p_rod)\n",
    "print(np.exp(p_rod))"
   ]
  },
  {
   "cell_type": "code",
   "execution_count": 11,
   "metadata": {},
   "outputs": [
    {
     "name": "stdout",
     "output_type": "stream",
     "text": [
      "[ 3.713232e+02 -8.098260e+02  2.167135e+02  2.349350e+02  2.240314e+01\n",
      "  5.289772e+01  4.243392e-01 -1.855019e+01  9.703890e-01  1.245570e+01]\n"
     ]
    }
   ],
   "source": [
    "# this computes the ten integrals f_k(xi_k)\n",
    "fk_xi = np.zeros(k)\n",
    "fk_xi += [(2*np.pi)**(-9/2)*P0*np.e*np.exp(p_rod[i])*np.prod(np.delete(integrals, i)) - f0 for i in range(k)]\n",
    "    \n",
    "print(fk_xi)"
   ]
  },
  {
   "cell_type": "markdown",
   "metadata": {},
   "source": [
    "Next, we compute the partial variances for the individual $KL$ terms and calculate their Sobol indices.\n",
    "\n",
    "$$\\begin{align}\n",
    "D_k &= \\int_{\\mathbb{R}}f_k^2(\\xi_k)\\rho(\\xi_k)d\\xi_k \\\\\n",
    "&= \\int_{\\mathbb{R}}\\bigg[\\int_{\\mathbb{R}^9}f(\\xi)\\rho(\\xi_{\\sim k})d\\xi_{\\sim k}\\bigg]^2\\rho(\\xi_k)d\\xi_k - f_0^2,\n",
    "\\end{align}$$\n",
    "\n",
    "which is taken from page 28 in the lecture notes. To simplify, again consider the first integral:\n",
    "\n",
    "$$\\begin{align}\n",
    "D_1 &= \\int_{\\mathbb{R}}\\Bigg((2\\pi)^{-9/2}\\big(P_0e\\big)exp\\bigg\\{\\sqrt{\\lambda_1}\\xi_1\\int_0^1\\phi_1(1)dt\\bigg\\}\\prod_{k \\neq 1}\\bigg[\\int_{\\mathbb{R}}exp\\bigg\\{\\sqrt{\\lambda_k}\\xi_k\\int_0^1\\phi_k(1)dt - \\frac{1}{2}\\xi_k^2\\bigg\\}d\\xi_{\\sim k}\\bigg]\\Bigg)^2 \\rho(\\xi_1)d\\xi_1 - f_0^2\\\\\n",
    "&= (2\\pi)^{-19/2}\\big(P_0e\\big)^2\\int_{\\mathbb{R}}exp\\bigg\\{2\\sqrt{\\lambda_1}\\xi_1\\int_0^1\\phi_1(1)dt - \\frac{1}{2}\\xi_1^2\\bigg\\}d\\xi_1\\Bigg(\\prod_{k \\neq 1}\\bigg[\\int_{\\mathbb{R}}exp\\bigg\\{\\sqrt{\\lambda_k}\\xi_k\\int_0^1\\phi_k(1)dt - \\frac{1}{2}\\xi_k^2\\bigg\\}d\\xi_{\\sim k}\\bigg]\\Bigg)^2 - f_0^2,\n",
    "\\end{align}$$\n",
    "\n",
    "and the remaining nine integrals will have the same form.\n",
    "\n",
    "$$D_k = (2\\pi)^{-19/2}\\big(P_0e\\big)^2\\int_{\\mathbb{R}}exp\\bigg\\{2\\sqrt{\\lambda_k}\\xi_k\\int_0^1\\phi_k(1)dt - \\frac{1}{2}\\xi_k^2\\bigg\\}d\\xi_k\\Bigg(\\prod_{i \\neq k}\\bigg[\\int_{\\mathbb{R}}exp\\bigg\\{\\sqrt{\\lambda_i}\\xi_i\\int_0^1\\phi_i(1)dt - \\frac{1}{2}\\xi_i^2\\bigg\\}d\\xi_{\\sim i}\\bigg]\\Bigg)^2 - f_0^2$$"
   ]
  },
  {
   "cell_type": "code",
   "execution_count": 12,
   "metadata": {},
   "outputs": [
    {
     "name": "stdout",
     "output_type": "stream",
     "text": [
      "The partial variances are [1.175636e+07 2.770724e+06 1.503307e+04 3.135712e+04 4.037290e+02\n",
      " 9.330829e+03 3.986026e+01 1.664756e+03 7.403801e+00 8.584983e+02]\n",
      "The sum of the partial variances is 14585776.10086842\n",
      "The total variance is 16761593.206288824\n",
      "The share of the total variance made up by the partial variances is 0.8702\n",
      "The Sobol indices are \n",
      " [7.013866e-01 1.653020e-01 8.968760e-04 1.870772e-03 2.408655e-05\n",
      " 5.566791e-04 2.378071e-06 9.931966e-05 4.417122e-07 5.121818e-05]\n"
     ]
    }
   ],
   "source": [
    "# partial variances\n",
    "D_k = np.zeros(k)\n",
    "D_k += [(2*np.pi)**(-19/2)*(P0*np.e)**2*integrals2[i]*(np.prod(np.delete(integrals, i)))**2 - f0**2 for i in range(k)]\n",
    "print(\"The partial variances are\", D_k)\n",
    "\n",
    "# compare sum of partial variances with total variance\n",
    "print(\"The sum of the partial variances is\", np.sum(D_k))\n",
    "print(\"The total variance is\", D)\n",
    "print(\"The share of the total variance made up by the partial variances is\", '%.4f'%(np.sum(D_k)/D))\n",
    "\n",
    "# compute Sobol indices\n",
    "sobol_i = np.zeros(k)\n",
    "sobol_i += [D_k[i]/D for i in range(k)]\n",
    "print(\"The Sobol indices are \\n\", sobol_i)"
   ]
  },
  {
   "cell_type": "markdown",
   "metadata": {},
   "source": [
    "Next, we compute the partial variances for the $KL$ cross-terms and calculate their Sobol indices. We begin with $f_{kl}(\\xi_k,\\xi_l)$ and then calculate $D_{kl}$.\n",
    "\n",
    "$$\\begin{align}\n",
    "f_{kl}(\\xi_k,\\xi_l) &= \\int_{\\mathbb{R}^8}f(\\xi)\\rho(\\xi_{\\sim kl})d\\xi_{\\sim kl} - f_k(\\xi_k) - f_l(\\xi_l) - f_0 \\\\\n",
    "&= \\int_{\\mathbb{R}^8}P_0exp\\bigg\\{1+\\sum_k\\sqrt{\\lambda_k}\\xi_k\\int_0^1\\phi_k(1)dt\\bigg\\}\\prod_{i \\neq k,l}(2\\pi)^{-1/2}exp\\bigg\\{-\\frac{1}{2}\\xi_i^2\\bigg\\}d\\xi_{\\sim k,l} - f_k(\\xi_k) - f_l(\\xi_l) - f_0 \\\\\n",
    "&= (2\\pi)^{-8/2}P_0e\\int_{\\mathbb{R}^8}\\prod_kexp\\bigg\\{\\sqrt{\\lambda_k}\\xi_k\\int_0^1\\phi_k(1)dt\\bigg\\}\\prod_{i \\neq k,l}exp\\bigg\\{-\\frac{1}{2}\\xi_k^2\\bigg\\}d\\xi_{\\sim k,l} - f_k(\\xi_k) - f_l(\\xi_l) - f_0 \\\\\n",
    "&= (2\\pi)^{-8/2}P_0e\\prod_{1,2}exp\\bigg\\{\\sqrt{\\lambda_{1,2}}\\xi_{1,2}\\int_0^1\\phi_{1,2}(1)dt\\bigg\\}\\int_{\\mathbb{R}^8}\\prod_{k \\neq 1,2}exp\\bigg\\{\\sqrt{\\lambda_k}\\xi_k\\int_0^1\\phi_k(1)dt-\\frac{1}{2}\\xi_k^2\\bigg\\}d\\xi_{\\sim 1,2} - f_k(\\xi_k) - f_l(\\xi_l) - f_0 \\\\\n",
    "&= (2\\pi)^{-8/2}P_0exp\\bigg\\{1+\\sum_{i=1,2}\\sqrt{\\lambda_i}\\xi_i\\int_0^1\\phi_i(1)dt\\bigg\\}\\prod_{k \\neq 1,2}\\bigg[\\int_{\\mathbb{R}}exp\\bigg\\{\\sqrt{\\lambda_k}\\xi_k\\int_0^1\\phi_k(1)dt-\\frac{1}{2}\\xi_k^2\\bigg\\}d\\xi_{\\sim 1,2}\\bigg] - f_k(\\xi_k) - f_l(\\xi_l) - f_0 \\\\\n",
    "\\Rightarrow f_{kl}(\\xi_k,\\xi_l) &= (2\\pi)^{-8/2}P_0exp\\bigg\\{1+\\sum_{i=k,l}\\sqrt{\\lambda_i}\\xi_i\\int_0^1\\phi_i(1)dt\\bigg\\}\\prod_{i \\neq k,l}\\bigg[\\int_{\\mathbb{R}}exp\\bigg\\{\\sqrt{\\lambda_i}\\xi_i\\int_0^1\\phi_i(1)dt-\\frac{1}{2}\\xi_i^2\\bigg\\}d\\xi_{\\sim k,l}\\bigg] - f_k(\\xi_k) - f_l(\\xi_l) - f_0\n",
    "\\end{align}$$"
   ]
  },
  {
   "cell_type": "code",
   "execution_count": 13,
   "metadata": {},
   "outputs": [],
   "source": [
    "# this computes the f_kl(xi_kl)\n",
    "fkl_xi = np.zeros(shape=(k, k))\n",
    "fkl_xi += [[(2*np.pi)**(-8/2)*P0*np.e*np.exp(np.sum([p_rod[i],p_rod[j]]))*np.prod(np.delete(integrals,[i,j]))-fk_xi[i]-fk_xi[j]-f0 for j in range(k)] for i in range(k)]\n",
    "\n",
    "# print(fkl_xi)"
   ]
  },
  {
   "cell_type": "markdown",
   "metadata": {},
   "source": [
    "$$D_{kl} = \\int\\int\\limits_{\\mathbb{R}^2}f_{kl}^2(\\xi_k,\\xi_l)\\rho(\\xi_k)\\rho(\\xi_l)d\\xi_kd\\xi_l$$\n",
    "\n",
    "To simplify this, let $z_{kl} = (2\\pi)^{-8/2}P_0exp\\big\\{1+\\sum_{i=k,l}\\sqrt{\\lambda_i}\\xi_i\\int_0^1\\phi_i(1)dt\\big\\}\\prod_{i \\neq k,l}\\big[\\int_{\\mathbb{R}}exp\\big\\{\\sqrt{\\lambda_i}\\xi_i\\int_0^1\\phi_i(1)dt - \\frac{1}{2}\\xi_i^2\\big\\}d\\xi_{\\sim k,l}\\big]$, then\n",
    "\n",
    "$$\\begin{align}\n",
    "f_{kl}^2(\\xi_k,\\xi_l) &= (z_{kl} - f_k - f_l - f_0)^2 \\\\\n",
    "&= z_{kl}^2 + f_k^2 + f_l^2 + f_0^2 - 2f_kz_{kl} - 2f_lz_{kl} - 2f_0z_{kl} + 2f_kf_l + 2f_0f_k + 2f_0f_l\n",
    "\\end{align}$$\n",
    "\n",
    "Then $D_{kl}$ can be written as\n",
    "\n",
    "$$\\int\\int\\limits_{\\mathbb{R}^2}z_{kl}^2\\rho_k\\rho_ld\\xi_kd\\xi_l + \\int\\int\\limits_{\\mathbb{R}^2}f_k^2\\rho_k\\rho_ld\\xi_kd\\xi_l + \\int\\int\\limits_{\\mathbb{R}^2}f_l^2\\rho_k\\rho_ld\\xi_kd\\xi_l + \\int\\int\\limits_{\\mathbb{R}^2}f_0^2\\rho_k\\rho_ld\\xi_kd\\xi_l - 2\\int\\int\\limits_{\\mathbb{R}^2}f_kz_{kl}\\rho_k\\rho_ld\\xi_kd\\xi_l - 2\\int\\int\\limits_{\\mathbb{R}^2}f_lz_{kl}\\rho_k\\rho_ld\\xi_kd\\xi_l - 2\\int\\int\\limits_{\\mathbb{R}^2}f_0z_{kl}\\rho_k\\rho_ld\\xi_kd\\xi_l + 2\\int\\int\\limits_{\\mathbb{R}^2}f_kf_l\\rho_k\\rho_ld\\xi_kd\\xi_l + 2\\int\\int\\limits_{\\mathbb{R}^2}f_0f_k\\rho_k\\rho_ld\\xi_kd\\xi_l + 2\\int\\int\\limits_{\\mathbb{R}^2}f_0f_l\\rho_k\\rho_ld\\xi_kd\\xi_l,$$\n",
    "\n",
    "each of which can be simplified.\n",
    "\n",
    "Terms 1-4:\n",
    "\n",
    "$$\\int\\int\\limits_{\\mathbb{R}^2}z_{kl}^2\\rho_k\\rho_ld\\xi_kd\\xi_l = (2\\pi)^{-9}(P_0e)^2\\bigg(\\prod_{i \\neq k,l}\\bigg[\\int_{\\mathbb{R}}exp\\bigg\\{\\sqrt{\\lambda_i}\\xi_i\\int_0^1\\phi_idt - \\frac{1}{2}\\xi_i^2\\bigg\\}d\\xi_{\\sim k,l}\\bigg]\\bigg)^2\\int_{\\mathbb{R}}exp\\bigg\\{2\\sqrt{\\lambda_k}\\xi_k\\int_0^1\\phi_kdt - \\frac{1}{2}\\xi_k^2\\bigg\\}d\\xi_k\\int_{\\mathbb{R}}exp\\bigg\\{2\\sqrt{\\lambda_l}\\xi_l\\int_0^1\\phi_ldt - \\frac{1}{2}\\xi_l^2\\bigg\\}d\\xi_l$$\n",
    "\n",
    "-------------------------------------------------------------------------------------------------------------------------------\n",
    "\n",
    "$$\\int\\int\\limits_{\\mathbb{R}^2}f_k^2\\rho_k\\rho_ld\\xi_kd\\xi_l = \\int_{\\mathbb{R}}\\rho_ld\\xi_l\\int_{\\mathbb{R}}f_k^2\\rho_kd\\xi_k = D_k$$\n",
    "\n",
    "-------------------------------------------------------------------------------------------------------------------------------\n",
    "\n",
    "$$\\int\\int\\limits_{\\mathbb{R}^2}f_l^2\\rho_k\\rho_ld\\xi_kd\\xi_l = \\int_{\\mathbb{R}}\\rho_kd\\xi_k\\int_{\\mathbb{R}}f_l^2\\rho_ld\\xi_l = D_l$$\n",
    "\n",
    "-------------------------------------------------------------------------------------------------------------------------------\n",
    "\n",
    "$$\\int\\int\\limits_{\\mathbb{R}^2}f_0^2\\rho_k\\rho_ld\\xi_kd\\xi_l = f_0^2\\int_{\\mathbb{R}}\\rho_kd\\xi_k\\int_{\\mathbb{R}}\\rho_ld\\xi_l = f_0^2$$ because $$\\int_{\\mathbb{R}}\\rho_kd\\xi_k = \\int_{\\mathbb{R}}\\rho_ld\\xi_l = 1$$"
   ]
  },
  {
   "cell_type": "markdown",
   "metadata": {},
   "source": [
    "Observe that \n",
    "$$\\begin{align}\n",
    "\\int_{\\mathbb{R}}z_{kl}\\rho_ld\\xi_l &= (2\\pi)^{-9/2}(P_0e)\\int_{\\mathbb{R}}exp\\bigg\\{\\sum_{i=k,l}\\sqrt{\\lambda_i}\\xi_i\\int_0^1\\phi_i(1)dt\\bigg\\}\\prod_{i \\neq k,l}\\bigg[\\int_{\\mathbb{R}}exp\\bigg\\{\\sqrt{\\lambda_i}\\xi_i\\phi_i(1)dt - \\frac{1}{2}\\xi_i^2\\bigg\\}d\\xi_{\\sim k,l}\\bigg]exp\\bigg\\{-\\frac{1}{2}\\xi_l^2\\bigg\\}d\\xi_l \\\\\n",
    "&= (2\\pi)^{-9/2}(P_0e)\\int_{\\mathbb{R}}exp\\bigg\\{\\sqrt{\\lambda_k}\\xi_k\\int_0^1\\phi_k(1)dt\\bigg\\}exp\\bigg\\{\\sqrt{\\lambda_l}\\xi_l\\int_0^1\\phi_l(1)dt-\\frac{1}{2}\\xi_l^2\\bigg\\}\\prod_{i \\neq k,l}\\bigg[\\int_{\\mathbb{R}}exp\\bigg\\{\\sqrt{\\lambda_i}\\xi_i\\phi_i(1)dt - \\frac{1}{2}\\xi_i^2\\bigg\\}d\\xi_{\\sim k,l}\\bigg]d\\xi_l \\\\\n",
    "&= (2\\pi)^{-9/2}(P_0e)exp\\bigg\\{\\sqrt{\\lambda_k}\\xi_k\\int_0^1\\phi_k(1)dt\\bigg\\}\\prod_{i \\neq k}\\bigg[\\int_{\\mathbb{R}}exp\\bigg\\{\\sqrt{\\lambda_i}\\xi_i\\phi_i(1)dt - \\frac{1}{2}\\xi_i^2\\bigg\\}d\\xi_{\\sim k}\\bigg] \\\\\n",
    "&= z_k = f_k + f_0 \\\\\n",
    "\\Rightarrow 2\\int\\int_{\\mathbb{R}^2}f_kz_{kl}\\rho_k\\rho_ld\\xi_kd\\xi_l &= 2\\int_{\\mathbb{R}}f_k(f_k+f_0)\\rho_kd_k \\\\\n",
    "&= 2\\bigg[\\int_{\\mathbb{R}}f_k^2\\rho_kd\\xi_k + f_0\\int_{\\mathbb{R}}f_k\\rho_kd_k\\bigg] \\\\\n",
    "&= 2D_k,\n",
    "\\end{align}$$\n",
    "\n",
    "because $$\\int_{\\mathbb{R}}f_k\\rho_kd_k = 0$$ by constraint. Similarly,\n",
    "\n",
    "$$2\\int\\int_{\\mathbb{R}^2}f_lz_{kl}\\rho_k\\rho_ld\\xi_kd\\xi_l = 2D_l$$\n",
    "\n",
    "-------------------------------------------------------------------------------------------------------------------------------\n",
    "\n",
    "Next,\n",
    "\n",
    "$$\\begin{align}\n",
    "2\\int\\int_{\\mathbb{R}^2}f_0z_{kl}\\rho_k\\rho_ld\\xi_kd\\xi_l &= 2(2\\pi)^{-10/2}(P_0e)f_0\\prod_{i \\neq k,l}\\bigg[\\int_{\\mathbb{R}}exp\\bigg\\{\\sqrt{\\lambda_i}\\xi_i\\int_0^1\\phi_idt - \\frac{1}{2}\\xi_i^2\\bigg\\}d\\xi_{\\sim k,l}\\bigg]\\int_{\\mathbb{R}}exp\\bigg\\{\\sqrt{\\lambda_k}\\xi_k\\phi_k(1)dt-\\frac{1}{2}\\xi_k^2\\bigg\\}d\\xi_k\\int_{\\mathbb{R}}exp\\bigg\\{\\sqrt{\\lambda_l}\\xi_l\\phi_l(1)dt-\\frac{1}{2}\\xi_l^2\\bigg\\}d\\xi_l \\\\\n",
    "&= 2(2\\pi)^{-10/2}(P_0e)f_0\\prod_{i}\\bigg[\\int_{\\mathbb{R}}exp\\bigg\\{\\sqrt{\\lambda_i}\\xi_i\\int_0^1\\phi_idt - \\frac{1}{2}\\xi_i^2\\bigg\\}d\\xi_i\\bigg] \\\\\n",
    "&= 2f_0^2\n",
    "\\end{align}$$"
   ]
  },
  {
   "cell_type": "markdown",
   "metadata": {},
   "source": [
    "Terms 8-10:\n",
    "\n",
    "$$2\\int\\int\\limits_{\\mathbb{R}^2}f_kf_lz_{kl}\\rho_k\\rho_ld\\xi_kd\\xi_l = 2\\int_{\\mathbb{R}}f_k\\rho_kd\\xi_k\\int_{\\mathbb{R}}f_l\\rho_ld\\xi_l = 0$$ because $$\\int_{\\mathbb{R}}f_k\\rho_kd\\xi_k = \\int_{\\mathbb{R}}f_l\\rho_ld\\xi_l = 0$$ by constraint.\n",
    "\n",
    "-------------------------------------------------------------------------------------------------------------------------------\n",
    "Similarly,\n",
    "\n",
    "$$2\\int\\int\\limits_{\\mathbb{R}^2}f_0f_k\\rho_k\\rho_ld\\xi_kd\\xi_l = 2f_0\\int_{\\mathbb{R}}\\rho_ld\\xi_k\\int_{\\mathbb{R}}f_k\\rho_kd\\xi_k = 0,$$\n",
    "\n",
    "and\n",
    "\n",
    "$$2\\int\\int\\limits_{\\mathbb{R}^2}f_0f_l\\rho_k\\rho_ld\\xi_kd\\xi_l = 2f_0\\int_{\\mathbb{R}}\\rho_kd\\xi_k\\int_{\\mathbb{R}}f_l\\rho_ld\\xi_l = 0.$$"
   ]
  },
  {
   "cell_type": "markdown",
   "metadata": {},
   "source": [
    "Therefore, $$D_{kl} = (2\\pi)^{-9}(P_0e)^2\\bigg(\\prod_{i \\neq k,l}\\bigg[\\int_{\\mathbb{R}}exp\\bigg\\{\\sqrt{\\lambda_i}\\xi_i\\int_0^1\\phi_idt - \\frac{1}{2}\\xi_i^2\\bigg\\}d\\xi_{\\sim k,l}\\bigg]\\bigg)^2\\int_{\\mathbb{R}}exp\\bigg\\{2\\sqrt{\\lambda_k}\\xi_k\\int_0^1\\phi_kdt - \\frac{1}{2}\\xi_k^2\\bigg\\}d\\xi_k\\int_{\\mathbb{R}}exp\\bigg\\{2\\sqrt{\\lambda_l}\\xi_l\\int_0^1\\phi_ldt - \\frac{1}{2}\\xi_l^2\\bigg\\}d\\xi_l - D_k - D_l - f_0^2$$"
   ]
  },
  {
   "cell_type": "code",
   "execution_count": 14,
   "metadata": {
    "scrolled": false
   },
   "outputs": [
    {
     "name": "stdout",
     "output_type": "stream",
     "text": [
      "The cross-term partial variances are \n",
      " [[4.914372e+08 2.112338e+06 1.146088e+04 2.390596e+04 3.077940e+02\n",
      "  7.113615e+03 3.038857e+01 1.269173e+03 5.644492e+00 6.544999e+02]\n",
      " [2.112338e+06 1.381016e+08 2.701086e+03 5.634130e+03 7.254052e+01\n",
      "  1.676528e+03 7.161942e+00 2.991171e+02 1.330287e+00 1.542518e+02]\n",
      " [1.146088e+04 2.701086e+03 8.172372e+07 3.056900e+01 3.935818e-01\n",
      "  9.096311e+00 3.885842e-02 1.622914e+00 7.217709e-03 8.369211e-01]\n",
      " [2.390596e+04 5.634130e+03 3.056900e+01 8.199970e+07 8.209628e-01\n",
      "  1.897377e+01 8.105385e-02 3.385198e+00 1.505526e-02 1.745713e+00]\n",
      " [3.077940e+02 7.254052e+01 3.935818e-01 8.209628e-01 8.147694e+07\n",
      "  2.442911e-01 1.043584e-03 4.358508e-02 1.938380e-04 2.247640e-02]\n",
      " [7.113615e+03 1.676528e+03 9.096311e+00 1.897377e+01 2.442911e-01\n",
      "  8.162747e+07 2.411891e-02 1.007322e+00 4.479945e-03 5.194659e-01]\n",
      " [3.038857e+01 7.161942e+00 3.885842e-02 8.105385e-02 1.043586e-03\n",
      "  2.411891e-02 8.147081e+07 4.303167e-03 1.913868e-05 2.219100e-03]\n",
      " [1.269173e+03 2.991171e+02 1.622914e+00 3.385198e+00 4.358508e-02\n",
      "  1.007322e+00 4.303167e-03 8.149819e+07 7.992815e-04 9.268028e-02]\n",
      " [5.644492e+00 1.330287e+00 7.217707e-03 1.505526e-02 1.938362e-04\n",
      "  4.479945e-03 1.913868e-05 7.992815e-04 8.147027e+07 4.121810e-04]\n",
      " [6.544999e+02 1.542518e+02 8.369211e-01 1.745713e+00 2.247640e-02\n",
      "  5.194659e-01 2.219101e-03 9.268028e-02 4.121810e-04 8.148461e+07]]\n",
      "The sum of the cross-term partial variances is 2167701.8458607197\n",
      "The share of the total variance made up by the partial variances is 0.1293\n",
      "The sum of the computed partial variances relative to the total variance is 0.9995\n",
      "The Sobol indices are \n",
      " [[2.931924e+01 1.260225e-01 6.837582e-04 1.426235e-03 1.836305e-05\n",
      "  4.243997e-04 1.812988e-06 7.571909e-05 3.367515e-07 3.904759e-05]\n",
      " [1.260225e-01 8.239168e+00 1.611473e-04 3.361333e-04 4.327782e-06\n",
      "  1.000220e-04 4.272829e-07 1.784539e-05 7.936521e-08 9.202692e-06]\n",
      " [6.837582e-04 1.611473e-04 4.875653e+00 1.823753e-06 2.348117e-08\n",
      "  5.426877e-07 2.318301e-09 9.682340e-08 4.306100e-10 4.993088e-08]\n",
      " [1.426235e-03 3.361333e-04 1.823753e-06 4.892118e+00 4.897880e-08\n",
      "  1.131979e-06 4.835689e-09 2.019616e-07 8.981999e-10 1.041496e-07]\n",
      " [1.836305e-05 4.327782e-06 2.348117e-08 4.897880e-08 4.860931e+00\n",
      "  1.457445e-08 6.226044e-11 2.600295e-09 1.156442e-11 1.340947e-09]\n",
      " [4.243997e-04 1.000220e-04 5.426877e-07 1.131979e-06 1.457445e-08\n",
      "  4.869911e+00 1.438939e-09 6.009701e-08 2.672744e-10 3.099144e-08]\n",
      " [1.812988e-06 4.272829e-07 2.318301e-09 4.835689e-09 6.226055e-11\n",
      "  1.438939e-09 4.860565e+00 2.567278e-10 1.141817e-12 1.323919e-10]\n",
      " [7.571909e-05 1.784539e-05 9.682340e-08 2.019616e-07 2.600295e-09\n",
      "  6.009701e-08 2.567278e-10 4.862199e+00 4.768530e-11 5.529324e-09]\n",
      " [3.367515e-07 7.936521e-08 4.306098e-10 8.981998e-10 1.156430e-11\n",
      "  2.672744e-10 1.141817e-12 4.768530e-11 4.860532e+00 2.459080e-11]\n",
      " [3.904759e-05 9.202692e-06 4.993088e-08 1.041496e-07 1.340947e-09\n",
      "  3.099144e-08 1.323920e-10 5.529324e-09 2.459080e-11 4.861388e+00]]\n"
     ]
    }
   ],
   "source": [
    "# cross term partial variances\n",
    "D_kl = np.zeros(shape=(k, k))\n",
    "D_kl += [[(2*np.pi)**(-9)*(P0*np.e)**2*np.prod(np.delete(integrals, [i,j]))**2*integrals2[i]*integrals2[j]-D_k[i]-D_k[j]-f0**2 for j in range(k)] for i in range(k)]\n",
    "\n",
    "# \n",
    "print('The cross-term partial variances are \\n', D_kl)\n",
    "\n",
    "# compare sum of partial variances with total variance\n",
    "partial_sum = np.sum(np.triu(D_kl)) - np.trace(D_kl)\n",
    "print('The sum of the cross-term partial variances is', partial_sum)\n",
    "print('The share of the total variance made up by the partial variances is', '%.4f'%(partial_sum/D))\n",
    "print('The sum of the computed partial variances relative to the total variance is', '%.4f'%((np.sum(D_k)+partial_sum)/D))\n",
    "\n",
    "# compute Sobol indices\n",
    "sobol_ij = np.zeros(shape=(k, k))\n",
    "sobol_ij += [[D_kl[i,j]/D for j in range(k)] for i in range(k)]\n",
    "print(\"The Sobol indices are \\n\", sobol_ij)"
   ]
  },
  {
   "cell_type": "markdown",
   "metadata": {},
   "source": [
    "### Part 5"
   ]
  },
  {
   "cell_type": "code",
   "execution_count": 15,
   "metadata": {},
   "outputs": [],
   "source": [
    "# generate population samples\n",
    "sample = 1000\n",
    "t0 = np.linspace(1/24, 1, 24)\n",
    "popul0 = np.zeros(shape = (sample,t.size))\n",
    "growth0 = np.zeros(shape = (sample,t.size))\n",
    "\n",
    "k0 = 6 # truncating KL expansion at 6 terms based on results of sensitivity analysis\n",
    "vk0 = build_vk(k0)"
   ]
  },
  {
   "cell_type": "code",
   "execution_count": 16,
   "metadata": {},
   "outputs": [],
   "source": [
    "for j in range(popul0.shape[0]):\n",
    "    xi0 = np.random.randn(k0)\n",
    "    lambda_i0 = np.zeros(k0)\n",
    "    int_phi_i0 = np.zeros(k0)\n",
    "    for times in range(len(t0)):\n",
    "        popul0[j][times] = Pop(t0[times], xi0, vk0, k0, P0)"
   ]
  },
  {
   "cell_type": "code",
   "execution_count": null,
   "metadata": {},
   "outputs": [],
   "source": [
    "# print(popul0)"
   ]
  },
  {
   "cell_type": "code",
   "execution_count": 17,
   "metadata": {},
   "outputs": [
    {
     "name": "stdout",
     "output_type": "stream",
     "text": [
      "324\n",
      "The probability of the population after one day being greater than 4000 is 0.3240\n"
     ]
    }
   ],
   "source": [
    "taco = 0\n",
    "\n",
    "for i in range(popul0.shape[0]):\n",
    "    if popul0[i, -1] > 4000:\n",
    "        taco += 1\n",
    "\n",
    "print(taco)\n",
    "print('The probability of the population after one day being greater than 4000 is', '%.4f'%(taco/sample))"
   ]
  }
 ],
 "metadata": {
  "kernelspec": {
   "display_name": "Python 3",
   "language": "python",
   "name": "python3"
  },
  "language_info": {
   "codemirror_mode": {
    "name": "ipython",
    "version": 3
   },
   "file_extension": ".py",
   "mimetype": "text/x-python",
   "name": "python",
   "nbconvert_exporter": "python",
   "pygments_lexer": "ipython3",
   "version": "3.7.1"
  }
 },
 "nbformat": 4,
 "nbformat_minor": 2
}
