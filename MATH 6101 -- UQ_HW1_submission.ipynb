{
 "cells": [
  {
   "cell_type": "markdown",
   "metadata": {},
   "source": [
    "### UQ HW #1\n",
    "Chandler Zachary <br/>\n",
    "MATH 6380 <br/>\n",
    "Due 16 Sep 2019"
   ]
  },
  {
   "cell_type": "markdown",
   "metadata": {},
   "source": [
    "#### 1.\n",
    "Let $X$ and $Y$ be independent and $\\mathcal{U}[0,1]$. \n",
    "* Analytically determine the *pdf* of $X+Y$, and then compute the mean and variance of $X+Y$.\n",
    "* Use a normalized histogram on [0,2] with 10 bins to approximate the pdf of $X+Y$.  Do this twice with 100 and 1000 samples of $(X,Y)$.  Use the histogram to numerically compute the mean and variance, and compare with the analytical result from the first part."
   ]
  },
  {
   "cell_type": "markdown",
   "metadata": {},
   "source": [
    "#### Response\n",
    "\n",
    "The pdf $f_Z(z)$ can be derived using the bivariate transformation method. Let $Z = X + Y$ and $W = X$. Then,<br/> \n",
    "\\begin{align*} \n",
    "g_1(x, y) &= z = x + y \\\\ \n",
    "g_2(x, y) &= w = x, \\\\ \n",
    "\\end{align*} \n",
    "\n",
    "and \n",
    "\\begin{align*} \n",
    "g_1^{-1}(w, z) &= y = z - w \\\\ \n",
    "g_2^{-1}(w, z) &= x = w. \\\\ \n",
    "\\end{align*}\n",
    "\n",
    "The joint distribution of $X$ and $Y$ is given by $$f_{X, Y}(x, y) \\overset{ind}{=} f_X(x)f_Y(y) = \\mathcal{I}_{[0, 1]}(x)\\mathcal{I}_{[0, 1]}(y).$$ Thus, the joint distribution $f_{W, Z}$ is given by $$f_{W, Z} = f_{X, Y}(g_1^{-1}(w, z), g_2^{-1}(w, z))|J| = f_X(w)f_Y(z - w)|J|.$$ \n",
    "\n",
    "We compute $|J|$ as: \n",
    "$$|J| = \n",
    "\\begin{Vmatrix} \n",
    "\\frac{\\partial g_1^{-1}}{\\partial w} & \\frac{\\partial g_1^{-1}}{\\partial z} \\\\ \n",
    "\\frac{\\partial g_2^{-1}}{\\partial w} & \\frac{\\partial g_2^{-1}}{\\partial z} \\\\\n",
    "\\end{Vmatrix} = \n",
    "\\begin{Vmatrix} \n",
    "-1 & 1 \\\\ \n",
    "1 & 0 \\\\\n",
    "\\end{Vmatrix} = \\big|-1\\big| = 1$$ \n",
    "\n",
    "Therefore, $$f_Z(z) = \\int\\limits_{-\\infty}^{+\\infty}f_X(w)f_Y(z - w)|J|dw = \\int\\limits_{-\\infty}^{+\\infty}I_{[0, 1]}(w)I_{[0, 1]}(z - w)dw.$$\n",
    "\n",
    "Now, $z = x + y \\Rightarrow 0 \\leq z \\leq 2$, and $w = x \\Rightarrow 0 \\leq w \\leq 1.$ Therefore, $0 \\leq z \\leq 1$ when $w \\leq z$, and $1 < z \\leq 2$ when $z - 1 \\leq w.$ Thus, $$w \\leq z \\Rightarrow \\int\\limits_{0}^{z}(1)(1)dw = w\\big|_0^z = z,$$ and $$z - 1 \\leq w \\Rightarrow \\int\\limits_{z - 1}^{1}(1)(1)dw = w\\big|_{z - 1}^1 = 1 - (z - 1) = 2 - z.$$ Thus, the pdf of $Z$ is: $$f_Z(z) = \n",
    "\\begin{cases} \n",
    "0 & z < 0 \\\\ \n",
    "z & 0 \\leq z \\leq 1 \\\\ \n",
    "2 - z & 1 < z \\leq 2 \\\\ \n",
    "1 & z > 2 \\\\ \n",
    "\\end{cases}$$\n",
    "\n",
    "To find $\\mathbb{E}[Z]$ and $var(Z)$:\n",
    "$$\\begin{align*}\n",
    "\\mathbb{E}[Z] &\\overset{def}{=} \\int\\limits_{-\\infty}^{+\\infty} zf_Z(z)dz \\\\\n",
    "\\\\\n",
    "&= \\int\\limits_{0}^{1} z^2dz + \\int\\limits_{1}^{2} 2z - z^2dz \\\\\n",
    "\\\\\n",
    "&= \\frac{z^3}{3}\\bigg|_0^1 + \\bigg(z^2 - \\frac{z^3}{3}\\bigg)_1^2 = 1 \\\\\n",
    "\\end{align*}$$\n",
    "<br/>\n",
    "$$\\begin{align*}\n",
    "var(Z) &= \\mathbb{E}\\big(Z^2\\big) - \\big(\\mathbb{E}(Z)\\big)^2 \\\\\n",
    "\\\\\n",
    "\\mathbb{E}[Z^2] &= \\int\\limits_{-\\infty}^{+\\infty} z^2f_Z(z)dz \\\\\n",
    "\\\\\n",
    "&= \\int\\limits_{0}^{1} z^3dz + \\int\\limits_{1}^{2} 2z^2 - z^3dz \\\\\n",
    "\\\\\n",
    "&= \\frac{z^4}{4}\\bigg|_0^1 + \\bigg(\\frac{2}{3}z^3 - \\frac{1}{4}z^4\\bigg)_1^2 = \\frac{7}{6} \\\\\n",
    "\\\\\n",
    "\\Rightarrow var(Z) &= \\frac{7}{6} - 1 = \\frac{1}{6} \\\\\n",
    "\\end{align*}$$"
   ]
  },
  {
   "cell_type": "code",
   "execution_count": 1,
   "metadata": {
    "scrolled": true
   },
   "outputs": [],
   "source": [
    "import numpy as np\n",
    "import matplotlib.pyplot as plt\n",
    "from scipy.stats import uniform\n",
    "import random\n",
    "random.seed(101)"
   ]
  },
  {
   "cell_type": "code",
   "execution_count": 8,
   "metadata": {
    "scrolled": true
   },
   "outputs": [
    {
     "data": {
      "image/png": "[encoded data removed]",
      "text/plain": [
       "<Figure size 720x360 with 2 Axes>"
      ]
     },
     "metadata": {
      "needs_background": "light"
     },
     "output_type": "display_data"
    }
   ],
   "source": [
    "x1 = uniform.rvs(0, 1, 100)\n",
    "y1 = uniform.rvs(0, 1, 100)\n",
    "z1 = x1 + y1\n",
    "\n",
    "x2 = uniform.rvs(0, 1, 1000)\n",
    "y2 = uniform.rvs(0, 1, 1000)\n",
    "z2 = x2 + y2\n",
    "\n",
    "fig, (ax1, ax2) = plt.subplots(nrows = 1, ncols = 2, figsize = (10, 5), sharex = False, sharey = False)\n",
    "ax1.hist(z1, bins = 10, range = [0, 2], density = True)\n",
    "ax2.hist(z2, bins = 10, range = [0, 2], density = True)\n",
    "plt.show()"
   ]
  },
  {
   "cell_type": "markdown",
   "metadata": {},
   "source": [
    "#### 2.\n",
    "\n",
    "1000 bacteria are placed in twenty Petri dishes and allowed to grow(different number of bacteria per dish).  The growth rate $a$ is assumed to be *normally* distributed with unknown mean and variance,  and after 1 day, the following populations are observed:\n",
    "\n",
    "* Analytically determine the pdf of the population at 1 day(if possible) (Hint, read about the **lognormal distribution**)\n",
    "\n",
    "* Given the data, find the maximum likelihood estimate of the mean and variance of $a$.  You may do this numerically or mathematically."
   ]
  },
  {
   "cell_type": "markdown",
   "metadata": {},
   "source": [
    "#### Response\n",
    "\n",
    "Let the distribution of the population in each dish after time $t$ be a random variable $X_i(t)$, with $i = 1, \\dots, 20$. Then $X_i(t) = 1000e^{a_it}$, where $a_i$ is the growth rate in dish $i$, and $t$ is time in days. Now, $a_i \\sim N(\\mu, \\sigma^2) \\Rightarrow X_i \\sim lognormal(\\mu, \\sigma^2)$, which we will show presently.\n",
    "\n",
    "Observe that at $t = 1$, $X_i(1) = 1000e^{a_i}$, and $a_i = \\text{ln}\\big(\\frac{X_i}{1000}\\big)$. We use this fact, along with the univariate transformation, to derive the pdf for $X_i(t)$. Since $a_i \\sim N(\\mu, \\sigma^2)$, the pdf of $a_i$ is $$f_A(a_i) = \\frac{1}{\\sqrt{2\\pi\\sigma^2}}\\text{exp}\\bigg(\\frac{-(a_i - \\mu)^2}{2\\sigma^2}\\bigg).$$\n",
    "\n",
    "Define $a_i = g^{-1}(x_i) = \\text{ln}\\big(\\frac{x_i}{1000}\\big)$, as above, which is a monotone transformation, and observe that $f_A(a_i)$ is continuous for all values of $a_i \\in A$, and <br/> \n",
    "\n",
    "$$\\frac{d}{dx_i}\\text{ln}\\bigg(\\frac{x_i}{1000}\\bigg) = \\frac{1}{1000x_i},$$ which is continuous for $x_i > 0$. Thus, we can write: <br/>\n",
    "\n",
    "$$f_{X}(x_i) = f_A\\big(g^{-1}(x)\\big)\\bigg|\\frac{d}{dx_i}\\big(g^{-1}(x)\\big)\\bigg| = \\frac{1}{1000x_i\\sqrt{2\\pi\\sigma^2}}\\text{exp}\\Bigg[\\frac{-\\big(\\text{ln}\\big(\\frac{x_i}{1000}\\big) - \\mu\\big)^2}{2\\sigma^2}\\Bigg]$$\n",
    "\n",
    "This verifies that the normal growth rate implies lognormal population growth. Since the mean and variance are the same for both distributions, we can derive the maximum likelihood estimates of the mean and variance using the joint pdf of $X_i$.\n",
    "\n",
    "Making use of the likelihood function, the joint pdf of $X_i$ is: <br/>\n",
    "\n",
    "\\begin{align*}\n",
    "\\mathcal{L}(\\mu, \\sigma^2 | x_1, x_2, \\dots, x_{20}) &= f(x_1, x_2, \\dots, x_{20} | \\mu, \\sigma^2) \\\\\n",
    "\\\\\n",
    "&= \\prod_{i=1}^{20}f_{X}(x_i) \\\\\n",
    "\\\\\n",
    "&= \\prod_{i=1}^{20} \\frac{1}{1000x_i\\sqrt{2\\pi\\sigma^2}}\\text{exp}\\Bigg[\\frac{-\\big(\\text{ln}\\big(\\frac{x_i}{1000}\\big) - \\mu\\big)^2}{2\\sigma^2}\\Bigg] \\\\\n",
    "\\\\\n",
    "\\Rightarrow \\text{ln}\\big(\\mathcal{L}(\\mu, \\sigma^2 | x_1, x_2, \\dots, x_{20})\\big) &= \\text{ln}f(x_1, x_2, \\dots, x_{20} | \\mu, \\sigma^2) \\\\\n",
    "\\\\\n",
    "&= \\text{ln}\\Bigg(\\prod_{i=1}^{20} \\frac{1}{1000x_i\\sqrt{2\\pi\\sigma^2}}\\text{exp}\\Bigg[\\frac{-\\big(\\text{ln}\\big(\\frac{x_i}{1000}\\big) - \\mu\\big)^2}{2\\sigma^2}\\Bigg]\\Bigg) \\\\\n",
    "\\\\\n",
    "&\\overset{ind}{=} \\sum\\limits_{i=1}^{20}\\text{ln}\\Bigg(\\frac{1}{1000x_i\\sqrt{2\\pi\\sigma^2}}\\text{exp}\\Bigg[\\frac{-\\big(\\text{ln}\\big(\\frac{x_i}{1000}\\big) - \\mu\\big)^2}{2\\sigma^2}\\Bigg]\\Bigg) \\\\\n",
    "\\\\\n",
    "&= \\sum\\limits_{i=1}^{20} \\Bigg[\\text{ln}(1) - \\text{ln}(1000) - \\text{ln}(x_i) - \\text{ln}\\sqrt{2\\pi} - \\text{ln}\\sqrt{\\sigma^2} - \\bigg(\\frac{\\big(\\text{ln}\\big(\\frac{x_i}{1000}\\big) - \\mu\\big)^2}{2\\sigma^2}\\bigg)\\Bigg] \\\\\n",
    "\\\\\n",
    "&= \\sum\\limits_{i=1}^{20} \\Bigg[\\text{ln}(1) - \\text{ln}(1000) - \\text{ln}(x_i) - \\frac{1}{2}\\text{ln}(2\\pi) - \\frac{1}{2}\\text{ln}\\sigma^2 - \\bigg(\\frac{\\big(\\text{ln}\\big(\\frac{x_i}{1000}\\big) - \\mu\\big)^2}{2\\sigma^2}\\bigg)\\Bigg] \\\\\n",
    "\\\\\n",
    "&= 0 - 20\\text{ln}(1000) - 10\\text{ln}(2\\pi) - 10\\text{ln}\\sigma^2 - \\sum\\limits_{i=1}^{20}\\text{ln}(x_i) - \\sum\\limits_{i=1}^{20}\\frac{\\big(\\text{ln}\\big(\\frac{x_i}{1000}\\big) - \\mu\\big)^2}{2\\sigma^2} \\\\\n",
    "\\\\\n",
    "&= - 20\\text{ln}(1000) - 10\\text{ln}(2\\pi) - 10\\text{ln}\\sigma^2 - \\sum\\limits_{i=1}^{20}\\text{ln}(x_i) - \\sum\\limits_{i=1}^{20}\\frac{\\big(\\text{ln}\\big(\\frac{x_i}{1000}\\big) - \\mu\\big)^2}{2\\sigma^2} \\\\\n",
    "\\\\\n",
    "\\end{align*}\n",
    "\n",
    "Next, we take the first partial derviatives of this log-likelihood function with respect to $\\mu$ and $\\sigma^2$, then set them equal to zero to arrive at the first order conditions:\n",
    "\n",
    "\\begin{align*}\n",
    "\\frac{\\partial\\text{ln}\\mathcal{L}}{\\partial \\mu} &= \\frac{1}{2\\sigma^2}\\sum\\limits_{i=1}^{20} -2\\big(\\text{ln}\\big(\\frac{x_i}{1000}\\big) - \\mu\\big) \\\\\n",
    "\\\\\n",
    "&= \\frac{-1}{\\sigma^2}\\sum\\limits_{i=1}^{20} \\big(\\text{ln}\\big(\\frac{x_i}{1000}\\big) - \\mu\\big) \\\\\n",
    "\\\\\n",
    "&= \\frac{-1}{\\sigma^2}\\Bigg(\\sum\\limits_{i=1}^{20} \\text{ln}\\big(\\frac{x_i}{1000}\\big) - 20\\mu\\Bigg) \\\\\n",
    "\\\\\n",
    "&= \\frac{1}{\\sigma^2}\\Bigg(20\\mu - \\sum\\limits_{i=1}^{20} \\text{ln}\\big(\\frac{x_i}{1000}\\big)\\Bigg) \\\\\n",
    "\\\\\n",
    "\\overset{FOC}{\\Rightarrow} \\frac{\\partial\\text{ln}\\mathcal{L}}{\\partial \\mu} \\overset{set}{=} 0 &\\Rightarrow \\frac{1}{\\sigma^2}\\Bigg(20\\mu - \\sum\\limits_{i=1}^{20} \\text{ln}\\big(\\frac{x_i}{1000}\\big)\\Bigg) = 0 \\\\\n",
    "\\\\\n",
    "&\\Leftrightarrow 20\\mu - \\sum\\limits_{i=1}^{20} \\text{ln}\\big(\\frac{x_i}{1000}\\big) = 0 \\\\\n",
    "\\\\\n",
    "&\\Leftrightarrow 20\\mu = \\sum\\limits_{i=1}^{20} \\text{ln}\\big(\\frac{x_i}{1000}\\big) \\\\\n",
    "\\\\\n",
    "&\\Leftrightarrow \\hat{\\mu}_{MLE} = \\frac{1}{20} \\sum\\limits_{i=1}^{20} \\text{ln}\\big(\\frac{x_i}{1000}\\big) \\\\\n",
    "\\\\\n",
    "\\frac{\\partial\\text{ln}\\mathcal{L}}{\\partial \\sigma^2} &= \\frac{-10}{\\sigma^2} + \\frac{1}{2\\big(\\sigma^2\\big)^2}\\sum\\limits_{i=1}^{20} \\big(\\text{ln}\\big(\\frac{x_i}{1000}\\big) - \\mu\\big)^2 \\\\\n",
    "\\\\\n",
    "\\overset{FOC}{\\Rightarrow} \\frac{\\partial\\text{ln}\\mathcal{L}}{\\partial \\sigma^2} \\overset{set}{=} 0 &\\Rightarrow \\frac{-10}{\\sigma^2} + \\frac{1}{2\\big(\\sigma^2\\big)^2}\\sum\\limits_{i=1}^{20} \\big(\\text{ln}\\big(\\frac{x_i}{1000}\\big) - \\mu\\big)^2 = 0 \\\\\n",
    "\\\\\n",
    "&\\Leftrightarrow \\frac{-10}{\\sigma^2} = -\\frac{1}{2\\big(\\sigma^2\\big)^2}\\sum\\limits_{i=1}^{20} \\big(\\text{ln}\\big(\\frac{x_i}{1000}\\big) - \\mu\\big)^2 \\\\\n",
    "\\\\\n",
    "&\\Leftrightarrow 20 = \\frac{1}{\\big(\\sigma^2\\big)}\\sum\\limits_{i=1}^{20} \\big(\\text{ln}\\big(\\frac{x_i}{1000}\\big) - \\mu\\big)^2 \\\\\n",
    "&\\Leftrightarrow \\hat{\\sigma}^2_{MLE} = \\frac{1}{20}\\sum\\limits_{i=1}^{20} \\big(\\text{ln}\\big(\\frac{x_i}{1000}\\big) - \\hat{\\mu}\\big)^2 \\\\\n",
    "\\end{align*}"
   ]
  },
  {
   "cell_type": "code",
   "execution_count": 1,
   "metadata": {},
   "outputs": [
    {
     "name": "stdout",
     "output_type": "stream",
     "text": [
      "[2136. 2143. 1969. 1928. 2020. 2033. 2007. 1895. 2047. 2108. 1957. 2077.\n",
      " 2142. 1837. 2048. 1871. 1973. 1978. 1982. 2017.]\n",
      "Mean estimate: 0.6964321223178728 , Variance estimate: 0.0018181330512784606\n"
     ]
    }
   ],
   "source": [
    "import numpy as np\n",
    "pop1day=np.array([2136., 2143., 1969., 1928., 2020., 2033. ,2007., 1895., 2047. ,2108., 1957. ,2077.,\n",
    " 2142. ,1837., 2048., 1871., 1973., 1978., 1982., 2017.])\n",
    "print(pop1day)\n",
    "\n",
    "mu_hat = (1/20)*np.sum(np.log(pop1day/1000))\n",
    "sigma_sqd_hat = (1/20)*np.sum((np.log(pop1day/1000) - mu_hat)**2)\n",
    "\n",
    "print('Mean estimate:', mu_hat, ',', 'Variance estimate:', sigma_sqd_hat)"
   ]
  },
  {
   "cell_type": "markdown",
   "metadata": {},
   "source": [
    "#### 3. \n",
    "Given the same data as in Problem  #2, but the initial population in each petri dish is approximate (i.e. treat as $\\mathcal{U}[900,1100]$).\n",
    "\n",
    "* Find the joint pdf of the population at 1 day (in terms of the unknown parameters in $a$)\n",
    "* Set up, but do not solve, the estimate for the mean and variance of $a$. \n",
    "* Set up, but do not solve, the probability of the population being greater than 4000 after 2 days."
   ]
  },
  {
   "cell_type": "markdown",
   "metadata": {
    "collapsed": true
   },
   "source": [
    "#### Response\n",
    "\n",
    "Let $X_i(0)$ be uniform[900, 1100] random variables, where $X_i(0) = x_i(0)$ is the initial population of bacteria in dish $i$, for $i = 1, \\dots, 20$. Proceeding as in (2), $X_i(t) = X_i(0)e^{a_it}, \\; t > 0,$ is the population at time $t$ in each dish, and $a_i = \\frac{1}{t}\\text{ln}\\big(\\frac{X_i(t)}{X_i(0)}\\big)$. In this form, $X_i(t)$ is now a composed function of two random variables: $X_i(0), \\; a_i$. Therefore, we must derive the joint pdf of $X_i(t)$ using the bivariate transformation method.\n",
    "\n",
    "Let $$\n",
    "\\begin{align*}\n",
    "g_1(x_i(0), a_i) &= x_i(t) = x_i(0)e^{a_it} \\\\\n",
    "g_2(x_i(0), a_i) &= w = x_i(0),\n",
    "\\end{align*}\n",
    "$$ then $$\n",
    "\\begin{align*}\n",
    "g^{-1}_1(w, x_i(t)) &= a_i = \\frac{1}{t}\\text{ln}\\big(\\frac{x_i(t)}{w}\\big) \\\\\n",
    "g^{-1}_2(w, x_i(t)) &= x_i(0) = w\n",
    "\\end{align*}\n",
    "$$\n",
    "\n",
    "The joint distribution of $X(0)$ and $A$ is given by: $$f_{X(0), A}(x_i(0), a_i) = \\bigg(\\frac{1}{200}\\mathcal{I}_{[900, 1100]}\\big(x_i(0)\\big)\\bigg)\\bigg(\\frac{1}{\\sqrt{2\\pi\\sigma^2}}\\text{exp}\\bigg[\\frac{-(a_i - \\mu)^2}{2\\sigma^2}\\bigg]\\bigg),$$ \n",
    "<br/>\n",
    "where we make the assumption that the initial population and the growth rate are independent, and the joint distribution \n",
    "<br/>\n",
    "$f_{W, Z}$ is given by $$f_{W, X(t)} = f_{X(0), A}(g_1^{-1}(w, x_i(t)), g_2^{-1}(w, x_i(t)))|J| = f_{X(0)}(w)f_A\\bigg(\\frac{1}{t}\\text{ln}\\big(\\frac{x_i(t)}{w}\\big)\\bigg)|J|.$$\n",
    "\n",
    "We compute $|J|$ as: \n",
    "$$|J| = \n",
    "\\begin{Vmatrix} \n",
    "\\frac{\\partial g_1^{-1}}{\\partial w} & \\frac{\\partial g_1^{-1}}{\\partial x_i(t)} \\\\ \n",
    "\\frac{\\partial g_2^{-1}}{\\partial w} & \\frac{\\partial g_2^{-1}}{\\partial x_i(t)} \\\\\n",
    "\\end{Vmatrix} = \n",
    "\\begin{Vmatrix} \n",
    "\\frac{-1}{w} & \\frac{1}{x_i(t)t} \\\\ \n",
    "1 & 0 \\\\\n",
    "\\end{Vmatrix} = \\bigg|\\frac{1}{x_i(t)t}\\bigg| = \\frac{1}{x_i(t)t}$$\n",
    "\n",
    "Therefore, the joint pdf is \n",
    "$$\n",
    "\\begin{align*}\n",
    "f_{X(0)}(w)f_A\\bigg(\\frac{1}{t}\\text{ln}\\big(\\frac{x_i(t)}{w}\\big)\\bigg)|J| &= \\frac{1}{200\\sqrt{2\\pi\\sigma^2}}\\text{exp}\\bigg[\\frac{-\\big(\\frac{1}{t}\\text{ln}\\big(\\frac{x_i(t)}{x_i(0)}\\big) - \\mu\\big)^2}{2\\sigma^2}\\bigg]\\frac{1}{x_i(t)t} \\\\\n",
    "\\\\\n",
    "&= \\frac{1}{200x_i(t)t\\sqrt{2\\pi\\sigma^2}}\\text{exp}\\bigg[\\frac{-\\big(\\frac{1}{t}\\text{ln}\\big(\\frac{x_i(t)}{x_i(0)}\\big) - \\mu\\big)^2}{2\\sigma^2}\\bigg] \\\\\n",
    "\\end{align*}\n",
    "$$\n",
    "\n",
    "When $t = 1$, this is $$\\frac{1}{200x_i(1)\\sqrt{2\\pi\\sigma^2}}\\text{exp}\\bigg[\\frac{-\\big(\\text{ln}\\big(\\frac{x_i(1)}{x_i(0)}\\big) - \\mu\\big)^2}{2\\sigma^2}\\bigg]$$\n",
    "<br/>\n",
    "\n",
    "To arrive at estimates of the mean and variance, set up the likelihood equation:\n",
    "\n",
    "$$\n",
    "\\begin{align*}\n",
    "f_{X(t)}(x_i(t)) &= \\int_{900}^{1100}f_{X(t), X(0)}(x_i(t), x_i(0)) dx_i(0) \\\\\n",
    "\\\\\n",
    "&= \\int_{900}^{1100}\\frac{1}{200x_i(t)t\\sqrt{2\\pi\\sigma^2}}\\text{exp}\\bigg[\\frac{-\\big(\\frac{1}{t}\\text{ln}\\big(\\frac{x_i(t)}{x_i(0)}\\big) - \\mu\\big)^2}{2\\sigma^2}\\bigg] dx_i(0) \\\\\n",
    "\\\\\n",
    "\\Rightarrow \\mathcal{L}(\\mu, \\sigma^2 | x_1, x_2, \\dots, x_{20}) &= \\prod_{i=1}^{20}\\int_{900}^{1100}\\frac{1}{200x_i(t)t\\sqrt{2\\pi\\sigma^2}}\\text{exp}\\bigg[\\frac{-\\big(\\frac{1}{t}\\text{ln}\\big(\\frac{x_i(t)}{x_i(0)}\\big) - \\mu\\big)^2}{2\\sigma^2}\\bigg] dx_i(0)\n",
    "\\\\\n",
    "\\end{align*}\n",
    "$$\n",
    "\n",
    "and the first order conditions can be solved to determine $(\\hat{\\mu}, \\hat{\\sigma}^2)$:\n",
    "<br/>\n",
    "\n",
    "$$\\frac{\\partial\\mathcal{L}}{\\partial\\mu} = 0, \\quad \\frac{\\partial\\mathcal{L}}{\\partial\\sigma^2} = 0$$\n",
    "<br/>\n",
    "\n",
    "The probability of the population being greater than 4000 after 2 days is given by:\n",
    "\n",
    "$$\\mathbb{P}(X_i(2) > 4000) = \\int\\limits_{4000}^{\\infty}\\int\\limits_{900}^{1100}\\frac{1}{400x_i(2)\\sqrt{2\\pi\\sigma^2}}\\text{exp}\\bigg[\\frac{-\\big(\\frac{1}{2}\\text{ln}\\big(\\frac{x_i(2)}{x_i(0)}\\big) - \\mu\\big)^2}{2\\sigma^2}\\bigg]dx_i(0)dx_i(t)$$"
   ]
  }
 ],
 "metadata": {
  "kernelspec": {
   "display_name": "Python 3",
   "language": "python",
   "name": "python3"
  },
  "language_info": {
   "codemirror_mode": {
    "name": "ipython",
    "version": 3
   },
   "file_extension": ".py",
   "mimetype": "text/x-python",
   "name": "python",
   "nbconvert_exporter": "python",
   "pygments_lexer": "ipython3",
   "version": "3.7.1"
  }
 },
 "nbformat": 4,
 "nbformat_minor": 2
}
